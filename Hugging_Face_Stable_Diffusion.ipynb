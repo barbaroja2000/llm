{
  "nbformat": 4,
  "nbformat_minor": 0,
  "metadata": {
    "colab": {
      "private_outputs": true,
      "provenance": [],
      "machine_shape": "hm",
      "gpuType": "T4",
      "authorship_tag": "ABX9TyNlbM5eY9G6BUJPue6rKtK1",
      "include_colab_link": true
    },
    "kernelspec": {
      "name": "python3",
      "display_name": "Python 3"
    },
    "language_info": {
      "name": "python"
    },
    "accelerator": "GPU"
  },
  "cells": [
    {
      "cell_type": "markdown",
      "metadata": {
        "id": "view-in-github",
        "colab_type": "text"
      },
      "source": [
        "<a href=\"https://colab.research.google.com/github/barbaroja2000/llm/blob/main/Hugging_Face_Stable_Diffusion.ipynb\" target=\"_parent\"><img src=\"https://colab.research.google.com/assets/colab-badge.svg\" alt=\"Open In Colab\"/></a>"
      ]
    },
    {
      "cell_type": "markdown",
      "source": [
        "# Huggingface - Stable Diffusion"
      ],
      "metadata": {
        "id": "S0JWiMiPvCtF"
      }
    },
    {
      "cell_type": "code",
      "source": [
        "!python -m pip install  -U -q diffusers torch transformers accelerate scipy ftfy"
      ],
      "metadata": {
        "id": "IAlM194VhQQT"
      },
      "execution_count": null,
      "outputs": []
    },
    {
      "cell_type": "code",
      "execution_count": null,
      "metadata": {
        "id": "VxucrZ4VhPGa"
      },
      "outputs": [],
      "source": [
        "from diffusers import StableDiffusionPipeline\n",
        "import torch\n",
        "import transformers\n",
        "import accelerate\n",
        "import scipy \n",
        "import ftfy"
      ]
    },
    {
      "cell_type": "code",
      "source": [
        "from PIL import Image\n",
        "\n",
        "def image_grid(imgs, rows, cols):\n",
        "    assert len(imgs) == rows*cols\n",
        "\n",
        "    w, h = imgs[0].size\n",
        "    grid = Image.new('RGB', size=(cols*w, rows*h))\n",
        "    grid_w, grid_h = grid.size\n",
        "    \n",
        "    for i, img in enumerate(imgs):\n",
        "        grid.paste(img, box=(i%cols*w, i//cols*h))\n",
        "    return grid"
      ],
      "metadata": {
        "id": "CtDUKhaNlzHg"
      },
      "execution_count": null,
      "outputs": []
    },
    {
      "cell_type": "code",
      "source": [
        "#@markdown *Universal negative prompt (Only required for v2 models)*: ugly, tiling, poorly drawn hands, poorly drawn feet, poorly drawn face, out of frame, extra limbs, disfigured, deformed, body out of frame, bad anatomy, watermark, signature, cut off, low contrast, underexposed, overexposed, bad art, beginner, amateur, distorted face\n",
        "\n",
        "model_id = \"runwayml/stable-diffusion-v1-5\" #@param [\"runwayml/stable-diffusion-v1-5\", \"stabilityai/stable-diffusion-2-1\"] {allow-input: true}\n",
        "prompt = \"two cats grinning at the camera. bamboo forest background japanese woodblock style\" #@param {type:\"string\"}\n",
        "#not required for v1 models\n",
        "negative_prompt=\"photorealistic style, people, out of frame, no cats\" #@param {type:\"string\"}\n",
        "\n"
      ],
      "metadata": {
        "id": "bh71NWiOmffT"
      },
      "execution_count": null,
      "outputs": []
    },
    {
      "cell_type": "code",
      "source": [
        "#@markdown Lose  `torch_dtype=torch.float16` for full precision\n",
        "pipe = StableDiffusionPipeline.from_pretrained(model_id, torch_dtype=torch.float16)\n",
        "pipe = pipe.to(\"cuda:0\")"
      ],
      "metadata": {
        "id": "gcYt-8a-hw4n"
      },
      "execution_count": null,
      "outputs": []
    },
    {
      "cell_type": "code",
      "source": [
        "if model_id == \"stabilityai/stable-diffusion-2-1\":\n",
        "  image = pipe(prompt, negative_prompt=negative_prompt).images[0]  \n",
        "else:\n",
        "   image = pipe(prompt).images[0]  \n",
        "image.show()"
      ],
      "metadata": {
        "id": "dw8OCSxji9MN"
      },
      "execution_count": null,
      "outputs": []
    },
    {
      "cell_type": "code",
      "source": [
        "#@title Grid\n",
        "num_cols = 3\n",
        "num_rows = 3\n",
        "\n",
        "prompt = [prompt] * num_cols\n",
        "\n",
        "all_images = []\n",
        "for i in range(num_rows):\n",
        "  if model_id == \"stabilityai/stable-diffusion-2-1\":\n",
        "    images = pipe(prompt, negative_prompt=negative_prompt).images \n",
        "  else:\n",
        "    images = pipe(prompt).images\n",
        "  all_images.extend(images)\n",
        "\n",
        "grid = image_grid(all_images, rows=num_rows, cols=num_cols)\n",
        "grid"
      ],
      "metadata": {
        "id": "Mc46lhZZl5Fx"
      },
      "execution_count": null,
      "outputs": []
    }
  ]
}