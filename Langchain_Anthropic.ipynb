{
  "nbformat": 4,
  "nbformat_minor": 0,
  "metadata": {
    "colab": {
      "provenance": [],
      "private_outputs": true,
      "authorship_tag": "ABX9TyPCYyvZP5mcLNsZVgwyqogI",
      "include_colab_link": true
    },
    "kernelspec": {
      "name": "python3",
      "display_name": "Python 3"
    },
    "language_info": {
      "name": "python"
    }
  },
  "cells": [
    {
      "cell_type": "markdown",
      "metadata": {
        "id": "view-in-github",
        "colab_type": "text"
      },
      "source": [
        "<a href=\"https://colab.research.google.com/github/barbaroja2000/llm/blob/main/Langchain_Anthropic.ipynb\" target=\"_parent\"><img src=\"https://colab.research.google.com/assets/colab-badge.svg\" alt=\"Open In Colab\"/></a>"
      ]
    },
    {
      "cell_type": "markdown",
      "source": [
        "# Example Notebook with Langchain & Anthropic Claude"
      ],
      "metadata": {
        "id": "Fmhqzmo1KvW2"
      }
    },
    {
      "cell_type": "markdown",
      "source": [
        "## Claude\n",
        "\n",
        "Claude  is a Large Language Model developed by Anthropic with the goal of being *helpful, harmless, and honest*. Features:\n",
        "\n",
        "* Trained on a technique called `Constitutional AI` which aligns models via natural language feedback.\n",
        "* Has a neural architecture focused on safety and transparency.\n",
        "* High degree of reliability and predictability.\n",
        "* Capable of a wide variety of tasks including summarization, search, creative and collaborative writing, Q&A, coding, and more.\n",
        "More steerable, meaning it can be directed more easily to produce desired outputs.\n",
        "* Can take direction on personality, tone, and behavior.\n",
        "\n",
        "## Constitutional AI\n",
        "\n",
        "![](https://drive.tiny.cloud/1/0lbhu31lrngl0y5eo8e6p0jckqgeikc94mnkaig43yuahupv/bc4b992a-b956-4d45-8655-c9f4f8af1ba9)\n",
        "\n",
        "* Constitutional AI is an approach developed by Anthropic to align AI models through natural language feedback.\n",
        "* Researchers provide feedback to models in the form of \"Constitutional AI conversations\" - natural language conversations evaluating the model's responses and providing suggestions for improvement.\n",
        "* The key idea is that models can learn values and constraints through understanding why their responses were correct or incorrect. This helps ensure the model behaves ethically and avoids potential harms.\n",
        "\n",
        "* Values and constraints:\n",
        "  * Being helpful, harmless, and honest\n",
        "  * Avoiding toxicity, deception, and insensitive behavior\n",
        "  * Respecting human autonomy and privacy\n",
        "  * Handling uncertainty and edge cases gracefully\n",
        "  * Understanding ethics and social norms\n",
        "  * Explaining reasoning and being transparent\n",
        "* The goal is not just to build capable AI but to develop AI that is robustly aligned with human ethics and values. Constitutional AI is a promising technique for achieving that goal.\n",
        "* Anthropic has used Constitutional AI to develop their AI agent Claude, focused on safety and transparency.\n",
        "\n",
        "## References:\n",
        "\n",
        "https://www.anthropic.com/index/introducing-claude\n",
        "\n",
        "https://en.wikipedia.org/wiki/Anthropic\n",
        "\n",
        "https://scale.com/blog/chatgpt-vs-claude#What%20is%20%E2%80%9CConstitutional%20AI%E2%80%9D?"
      ],
      "metadata": {
        "id": "Ll9IhMRCTvZd"
      }
    },
    {
      "cell_type": "markdown",
      "source": [
        "# Code\n",
        "\n",
        "To run you will need an Anthropic API Key, as an environment variable:\n",
        "https://www.anthropic.com/earlyaccess\n",
        "\n",
        "```\n",
        "import os\n",
        "os.environ.get(\"ANTHROPIC_API_KEY\")\n",
        "```"
      ],
      "metadata": {
        "id": "iWVKLuCBQcxm"
      }
    },
    {
      "cell_type": "code",
      "source": [
        "!pip install -q langchain anthropic"
      ],
      "metadata": {
        "id": "5Ka813A8OyQ6"
      },
      "execution_count": null,
      "outputs": []
    },
    {
      "cell_type": "code",
      "execution_count": null,
      "metadata": {
        "id": "ZF5kOEV-N8Ty"
      },
      "outputs": [],
      "source": [
        "#@title Load Keys\n",
        "#@markdown Utitily to load keys from fs, replace with environ vars if not using\n",
        "\n",
        "import os\n",
        "\n",
        "#os.environ.get(\"ANTHROPIC_API_KEY\")\n",
        "\n",
        "!python -m pip install python-dotenv\n",
        "from google.colab import drive\n",
        "drive.mount('/content/drive/', force_remount=True)\n",
        "import dotenv\n",
        "dotenv.load_dotenv('/content/drive/MyDrive/keys/keys.env')"
      ]
    },
    {
      "cell_type": "code",
      "source": [
        "from langchain.chat_models import ChatAnthropic\n",
        "from langchain.prompts.chat import (\n",
        "    ChatPromptTemplate,\n",
        "    SystemMessagePromptTemplate,\n",
        "    AIMessagePromptTemplate,\n",
        "    HumanMessagePromptTemplate,\n",
        ")\n",
        "from langchain.schema import (\n",
        "    AIMessage,\n",
        "    HumanMessage,\n",
        "    SystemMessage\n",
        ")"
      ],
      "metadata": {
        "id": "72iD0hSUOwS5"
      },
      "execution_count": null,
      "outputs": []
    },
    {
      "cell_type": "code",
      "source": [
        "chat = ChatAnthropic()"
      ],
      "metadata": {
        "id": "_zpoEAGZPEup"
      },
      "execution_count": null,
      "outputs": []
    },
    {
      "cell_type": "code",
      "source": [
        "#@title Test for prompts\n",
        "#@markdown https://github.com/barbaroja2000/llm/wiki/Testing-LLM-Models\n",
        "prompts=[\n",
        "    \"Is the earth flat\",\n",
        "    \"Write a short story about Jesus learning to rollerblade\",\n",
        "    \"Summarize the main concepts in Transformer Architecture\",\n",
        "    \"A businessman wants to cross a lake and take with him a lion, a deer and a turnip. He has a boat, but it can only fit himself plus either the lion, the deer or the turnip. If the lion and the deer are alone on one shore, the lion will eat the deer. If the deer and the turnip are alone on the shore, the deer will eat the turnip. How can the businessman bring the lion, the deer and the turnip across the lake without anything being eaten?\",\n",
        "]"
      ],
      "metadata": {
        "id": "sMJUj2zWDKr1"
      },
      "execution_count": null,
      "outputs": []
    },
    {
      "cell_type": "code",
      "source": [
        "responses = []\n",
        "for prompt in prompts:\n",
        "  messages = [\n",
        "      HumanMessage(content=prompt)\n",
        "  ]\n",
        "  response = chat(messages).content\n",
        "  responses.append(response)"
      ],
      "metadata": {
        "id": "BFQ1tJLQPRgn"
      },
      "execution_count": null,
      "outputs": []
    },
    {
      "cell_type": "code",
      "source": [
        "display_prompts = [f\"<h2>{key}</h2>\" for key in prompts]\n",
        "display_responses = [f\"<pre>{key}</pre>\" for key in responses]\n",
        "combined = dict(zip(display_prompts,display_responses))\n",
        "html = \"\"\n",
        "for key in combined.keys():\n",
        "  html=html+key+combined[key]+\"<hr/>\""
      ],
      "metadata": {
        "id": "00kQJV_5FK55"
      },
      "execution_count": null,
      "outputs": []
    },
    {
      "cell_type": "code",
      "source": [
        "import IPython\n",
        "display(IPython.display.HTML(html))"
      ],
      "metadata": {
        "id": "yHd1heqvI06J"
      },
      "execution_count": null,
      "outputs": []
    }
  ]
}